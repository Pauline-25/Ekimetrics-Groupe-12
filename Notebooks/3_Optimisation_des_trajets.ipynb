{
 "cells": [
  {
   "cell_type": "markdown",
   "metadata": {},
   "source": [
    "## Importer les fichiers et les modules"
   ]
  },
  {
   "cell_type": "code",
   "execution_count": 18,
   "metadata": {},
   "outputs": [
    {
     "name": "stdout",
     "output_type": "stream",
     "text": [
      "The autoreload extension is already loaded. To reload it, use:\n",
      "  %reload_ext autoreload\n"
     ]
    }
   ],
   "source": [
    "import pandas as pd\n",
    "from edc import cvrp\n",
    "from edc import processing\n",
    "from edc import utils\n",
    "import datetime\n",
    "\n",
    "%load_ext autoreload\n",
    "%autoreload 2"
   ]
  },
  {
   "cell_type": "markdown",
   "metadata": {},
   "source": [
    "## Méthode 1 : algorithme du voyageur de commerce"
   ]
  },
  {
   "cell_type": "code",
   "execution_count": 2,
   "metadata": {},
   "outputs": [],
   "source": [
    "df_routes = pd.read_csv(\"../data/routes_v2.csv\")"
   ]
  },
  {
   "cell_type": "code",
   "execution_count": 3,
   "metadata": {},
   "outputs": [],
   "source": [
    "df_routes[\"stops_list\"] = df_routes.apply(lambda row : row.stops.split(' > '),axis=1)"
   ]
  },
  {
   "cell_type": "code",
   "execution_count": 4,
   "metadata": {},
   "outputs": [
    {
     "data": {
      "text/plain": [
       "7426"
      ]
     },
     "execution_count": 4,
     "metadata": {},
     "output_type": "execute_result"
    }
   ],
   "source": [
    "len(df_routes)"
   ]
  },
  {
   "cell_type": "code",
   "execution_count": 5,
   "metadata": {},
   "outputs": [],
   "source": [
    "# df_routes['trajectoires_optimisees'] = df_routes.apply(best_traject ,axis=1)\n",
    "# df_routes.to_csv(\"..\\data\\intermediate_data\\df_routes_optimisees.csv\")"
   ]
  },
  {
   "cell_type": "code",
   "execution_count": 6,
   "metadata": {},
   "outputs": [],
   "source": [
    "df_routes_optimisees = pd.read_csv(\"..\\data\\intermediate_data\\df_routes_optimisees.csv\")"
   ]
  },
  {
   "cell_type": "code",
   "execution_count": 7,
   "metadata": {},
   "outputs": [],
   "source": [
    "df_routes_optimisees.trajectoires_optimisees = df_routes_optimisees.trajectoires_optimisees.apply(lambda row : row.replace('[','').replace(']','').split(\",\"))"
   ]
  },
  {
   "cell_type": "markdown",
   "metadata": {},
   "source": [
    "## Méthode 2 : Vehicule Routing Problem"
   ]
  },
  {
   "cell_type": "code",
   "execution_count": 8,
   "metadata": {},
   "outputs": [],
   "source": [
    "df_cities = pd.read_csv(\"../data/cities.csv\")\n",
    "df_orders = pd.read_csv(\"../data/orders.csv\")\n",
    "df_routes = pd.read_csv(\"../data/routes.csv\")\n",
    "df_trucks = pd.read_csv(\"../data/trucks.csv\")\n",
    "df_routes_orders = pd.read_csv(\"../data/intermediate_data/df_routes_orders.csv\")"
   ]
  },
  {
   "cell_type": "code",
   "execution_count": 9,
   "metadata": {},
   "outputs": [],
   "source": [
    "df_orders.delivered_date = pd.to_datetime( df_orders.delivered_date )"
   ]
  },
  {
   "cell_type": "code",
   "execution_count": 10,
   "metadata": {},
   "outputs": [],
   "source": [
    "df_1 = pd.merge(df_orders,\n",
    "                df_cities[[\"city\",\"lat\",\"lng\"]],\n",
    "                left_on=\"from_warehouse\",\n",
    "                right_on=\"city\"\n",
    "                ).rename(columns={'lat':'lat_warehouse','lng':'lng_warehouse'}).drop(columns=[\"city\"])\n",
    "df_orders_opt = pd.merge(df_1,\n",
    "                           df_cities[[\"city\",\"lat\",\"lng\"]],\n",
    "                           left_on=\"delivery_location\",\n",
    "                           right_on=\"city\").rename(columns={'lat':'lat_delivery','lng':'lng_delivery'}).drop(columns=[\"city\"])\n",
    "del(df_1)"
   ]
  },
  {
   "cell_type": "code",
   "execution_count": 14,
   "metadata": {},
   "outputs": [
    {
     "name": "stdout",
     "output_type": "stream",
     "text": [
      "Objective: 8957 \n",
      "\n",
      "Total distance of all routes: 8957m\n",
      "Total load of all routes: 2028.5981000000002\n"
     ]
    }
   ],
   "source": [
    "date_test = datetime.datetime(2021,3,1)\n",
    "delay_test = 1\n",
    "warehouse_name_test = 'Cergy'\n",
    "\n",
    "df_filtered,matrix_distance,demand,vehicle_capacities,num_vehicles,depot = processing.processing_opti_rendement(df_orders_opt,warehouse_name_test,date_test,delay_test)\n",
    "lists_of_cities = cvrp.CVRP(cvrp.create_data_model(df_filtered,matrix_distance,demand,vehicle_capacities,num_vehicles,depot),verbose=0)"
   ]
  },
  {
   "cell_type": "code",
   "execution_count": 21,
   "metadata": {},
   "outputs": [
    {
     "name": "stdout",
     "output_type": "stream",
     "text": [
      "Objective: 3348 \n",
      "\n",
      "Total distance of all routes: 3348m\n",
      "Total load of all routes: 715.58\n"
     ]
    }
   ],
   "source": [
    "date_test = datetime.datetime(2021,4,2)\n",
    "delay_test = 1\n",
    "warehouse_name_test = 'Avignon'\n",
    "\n",
    "df_filtered,matrix_distance,demand,vehicle_capacities,num_vehicles,depot = processing.processing_opti_rendement(df_orders_opt,warehouse_name_test,date_test,delay_test)\n",
    "lists_of_cities = cvrp.CVRP(cvrp.create_data_model(df_filtered,matrix_distance,demand,vehicle_capacities,num_vehicles,depot),verbose=0)\n",
    "lists_of_cities = [ utils.remove_consecutive_duplicate(list_of_city) for list_of_city in lists_of_cities] "
   ]
  }
 ],
 "metadata": {
  "interpreter": {
   "hash": "e323c6bd98a2a1e64a003e9569b2839b74c8d8446c9434a7c49e19db2224615f"
  },
  "kernelspec": {
   "display_name": "Python 3.7.5 64-bit ('venv': venv)",
   "language": "python",
   "name": "python3"
  },
  "language_info": {
   "codemirror_mode": {
    "name": "ipython",
    "version": 3
   },
   "file_extension": ".py",
   "mimetype": "text/x-python",
   "name": "python",
   "nbconvert_exporter": "python",
   "pygments_lexer": "ipython3",
   "version": "3.7.5"
  },
  "orig_nbformat": 4
 },
 "nbformat": 4,
 "nbformat_minor": 2
}
