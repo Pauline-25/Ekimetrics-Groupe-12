{
 "cells": [
  {
   "cell_type": "markdown",
   "metadata": {},
   "source": [
    "## Importer les fichiers et les modules"
   ]
  },
  {
   "cell_type": "code",
   "execution_count": 2,
   "metadata": {},
   "outputs": [],
   "source": [
    "import pandas as pd\n",
    "from edc import cvrp\n",
    "from edc import processing\n",
    "from edc import utils\n",
    "import datetime\n",
    "import itertools\n",
    "import numpy as np\n",
    "\n",
    "%load_ext autoreload\n",
    "%autoreload 2"
   ]
  },
  {
   "cell_type": "markdown",
   "metadata": {},
   "source": [
    "## Méthode 1 : algorithme du voyageur de commerce"
   ]
  },
  {
   "cell_type": "code",
   "execution_count": 2,
   "metadata": {},
   "outputs": [],
   "source": [
    "df_routes = pd.read_csv(\"../data/routes_v2.csv\")"
   ]
  },
  {
   "cell_type": "code",
   "execution_count": 3,
   "metadata": {},
   "outputs": [],
   "source": [
    "df_routes[\"stops_list\"] = df_routes.apply(lambda row : row.stops.split(' > '),axis=1)"
   ]
  },
  {
   "cell_type": "code",
   "execution_count": 6,
   "metadata": {},
   "outputs": [],
   "source": [
    "df_routes_optimisees = pd.read_csv(\"..\\data\\\\intermediate_data\\df_routes_optimisees.csv\")"
   ]
  },
  {
   "cell_type": "code",
   "execution_count": 7,
   "metadata": {},
   "outputs": [],
   "source": [
    "df_routes_optimisees.trajectoires_optimisees = df_routes_optimisees.trajectoires_optimisees.apply(lambda row : row.replace('[','').replace(']','').split(\",\"))"
   ]
  },
  {
   "cell_type": "markdown",
   "metadata": {},
   "source": [
    "## Méthode 2 : Vehicule Routing Problem"
   ]
  },
  {
   "cell_type": "code",
   "execution_count": 3,
   "metadata": {},
   "outputs": [],
   "source": [
    "df_cities = pd.read_csv(\"../data/cities.csv\")\n",
    "df_orders = pd.read_csv(\"../data/orders.csv\")\n",
    "df_routes = pd.read_csv(\"../data/routes.csv\")\n",
    "df_trucks = pd.read_csv(\"../data/trucks.csv\")\n",
    "df_routes_orders = pd.read_csv(\"../data/intermediate_data/df_routes_orders.csv\")"
   ]
  },
  {
   "cell_type": "code",
   "execution_count": 4,
   "metadata": {},
   "outputs": [],
   "source": [
    "df_orders.delivered_date = pd.to_datetime( df_orders.delivered_date )"
   ]
  },
  {
   "cell_type": "code",
   "execution_count": 105,
   "metadata": {},
   "outputs": [],
   "source": [
    "df_1 = pd.merge(df_orders,\n",
    "                df_cities[[\"city\",\"lat\",\"lng\"]],\n",
    "                left_on=\"from_warehouse\",\n",
    "                right_on=\"city\"\n",
    "                ).rename(columns={'lat':'lat_warehouse','lng':'lng_warehouse'}).drop(columns=[\"city\"])\n",
    "df_orders_opt = pd.merge(df_1,\n",
    "                           df_cities[[\"city\",\"lat\",\"lng\"]],\n",
    "                           left_on=\"delivery_location\",\n",
    "                           right_on=\"city\").rename(columns={'lat':'lat_delivery','lng':'lng_delivery'}).drop(columns=[\"city\"])\n",
    "del(df_1)"
   ]
  },
  {
   "cell_type": "code",
   "execution_count": 5,
   "metadata": {},
   "outputs": [],
   "source": [
    "date_test = datetime.datetime(2021,3,1)\n",
    "delay_test = 1\n",
    "warehouse_name_test = 'Cergy'\n",
    "\n",
    "df_filtered,matrix_distance,demand,vehicle_capacities,num_vehicles,depot = processing.processing_opti_rendement(df_orders_opt,warehouse_name_test,date_test,delay_test)\n",
    "lists_of_cities = cvrp.CVRP(cvrp.create_data_model(df_filtered,matrix_distance,demand,vehicle_capacities,num_vehicles,depot),verbose=0)"
   ]
  },
  {
   "cell_type": "code",
   "execution_count": 6,
   "metadata": {},
   "outputs": [],
   "source": [
    "date_test = datetime.datetime(2021,4,2)\n",
    "delay_test = 1\n",
    "warehouse_name_test = 'Avignon'\n",
    "\n",
    "df_filtered,matrix_distance,demand,vehicle_capacities,num_vehicles,depot = processing.processing_opti_rendement(df_orders_opt,warehouse_name_test,date_test,delay_test)\n",
    "lists_of_cities = cvrp.CVRP(cvrp.create_data_model(df_filtered,matrix_distance,demand,vehicle_capacities,num_vehicles,depot),verbose=0)\n",
    "lists_of_cities = [ utils.remove_consecutive_duplicate(list_of_city) for list_of_city in lists_of_cities] "
   ]
  },
  {
   "cell_type": "markdown",
   "metadata": {},
   "source": [
    "### Délai de 1 jour"
   ]
  },
  {
   "cell_type": "code",
   "execution_count": 128,
   "metadata": {},
   "outputs": [],
   "source": [
    "CO2_per_km = 0.795\n",
    "\n",
    "def calculate_nb_camions(row):\n",
    "    try :\n",
    "        return len([list_of_cities for list_of_cities in row if len(list_of_cities) > 1])  \n",
    "    except :\n",
    "        return np.nan \n",
    "\n",
    "def calculate_distance_trajet(row):\n",
    "    try :\n",
    "        return [utils.total_distance_trip(list_of_cities) + utils.dist(utils.donnees_cities(list_of_cities[-1]),utils.donnees_cities(list_of_cities[0])) for list_of_cities in row]\n",
    "    except :\n",
    "        np.nan  \n",
    "\n",
    "def calculate_nb_days_1_trajet(distance,list_of_cities):\n",
    "    if len(list_of_cities) == 1 :\n",
    "        return 0\n",
    "    else :\n",
    "        temps_route = distance / 100\n",
    "        temps_arrets = (len(list_of_cities) - 1) * 0.5\n",
    "        return (temps_route+temps_arrets) // 8 + 1\n",
    "\n",
    "def calculate_nb_days_trajets(row):\n",
    "    try :\n",
    "        return [calculate_nb_days_1_trajet(row.distance_trajet[i], row['Predicted roads'][i]) for i in range(50)]\n",
    "    except :\n",
    "        return np.nan\n",
    "\n",
    "def non_zero_elements(row):\n",
    "    try :\n",
    "        return [element for element in row if element>0]\n",
    "    except :\n",
    "        return np.nan\n",
    "\n",
    "def sum_values(row):\n",
    "    try :\n",
    "        return sum(row)\n",
    "    except :\n",
    "        return np.nan"
   ]
  },
  {
   "cell_type": "markdown",
   "metadata": {},
   "source": [
    "#### Scénario 0"
   ]
  },
  {
   "cell_type": "code",
   "execution_count": 10,
   "metadata": {},
   "outputs": [
    {
     "name": "stdout",
     "output_type": "stream",
     "text": [
      "No solution\n",
      "No solution\n",
      "No solution\n",
      "No solution\n"
     ]
    }
   ],
   "source": [
    "liste_warehouses_0 = ['Cergy','Reims','Avignon','Montauban','Clermont-Ferrand']\n",
    "df_optimised_0 = pd.DataFrame(list(itertools.product(liste_warehouses_0,[datetime.datetime(2021,1,1) + datetime.timedelta(days=2*i) for i in range(91)])),columns=['warehouse','date'])\n",
    "df_optimised_0[\"Predicted roads\"] = df_optimised_0.apply(lambda row : cvrp.apply_CVRP(df_orders_opt,row.warehouse,row.date,1), axis=1)\n",
    "df_optimised_0.to_csv(\"..\\data\\\\results\\df_optimised_0.csv\")"
   ]
  },
  {
   "cell_type": "code",
   "execution_count": 60,
   "metadata": {},
   "outputs": [],
   "source": [
    "df_optimised_0['nb_camions_totat'] = df_optimised_0['Predicted roads'].apply(calculate_nb_camions)\n",
    "df_optimised_0['nb_camions_daily'] = df_optimised_0['nb_camions_totat']/181\n",
    "df_optimised_0['distance_trajet'] = df_optimised_0['Predicted roads'].apply(calculate_distance_trajet)\n",
    "df_optimised_0['nb_days_trajets'] = df_optimised_0.apply(calculate_nb_days_trajets,axis=1)\n",
    "df_optimised_0['distance_all_trajets'] = df_optimised_0['distance_trajet'].apply(sum_values)\n",
    "df_optimised_0['CO2(kg)'] = df_optimised_0['distance_all_trajets'].apply(lambda row : row * CO2_per_km)"
   ]
  },
  {
   "cell_type": "code",
   "execution_count": 118,
   "metadata": {},
   "outputs": [
    {
     "data": {
      "text/html": [
       "<div>\n",
       "<style scoped>\n",
       "    .dataframe tbody tr th:only-of-type {\n",
       "        vertical-align: middle;\n",
       "    }\n",
       "\n",
       "    .dataframe tbody tr th {\n",
       "        vertical-align: top;\n",
       "    }\n",
       "\n",
       "    .dataframe thead th {\n",
       "        text-align: right;\n",
       "    }\n",
       "</style>\n",
       "<table border=\"1\" class=\"dataframe\">\n",
       "  <thead>\n",
       "    <tr style=\"text-align: right;\">\n",
       "      <th></th>\n",
       "      <th>nb_camions</th>\n",
       "      <th>distance_all_trajets</th>\n",
       "      <th>CO2(kg)</th>\n",
       "      <th>nb_camions_daily</th>\n",
       "    </tr>\n",
       "    <tr>\n",
       "      <th>warehouse</th>\n",
       "      <th></th>\n",
       "      <th></th>\n",
       "      <th></th>\n",
       "      <th></th>\n",
       "    </tr>\n",
       "  </thead>\n",
       "  <tbody>\n",
       "    <tr>\n",
       "      <th>Avignon</th>\n",
       "      <td>1071.0</td>\n",
       "      <td>589743.0</td>\n",
       "      <td>468845.685</td>\n",
       "      <td>5.884615</td>\n",
       "    </tr>\n",
       "    <tr>\n",
       "      <th>Cergy</th>\n",
       "      <td>2966.0</td>\n",
       "      <td>1705578.0</td>\n",
       "      <td>1355934.510</td>\n",
       "      <td>16.296703</td>\n",
       "    </tr>\n",
       "    <tr>\n",
       "      <th>Clermont-Ferrand</th>\n",
       "      <td>289.0</td>\n",
       "      <td>168732.0</td>\n",
       "      <td>134141.940</td>\n",
       "      <td>1.587912</td>\n",
       "    </tr>\n",
       "    <tr>\n",
       "      <th>Montauban</th>\n",
       "      <td>668.0</td>\n",
       "      <td>534141.0</td>\n",
       "      <td>424642.095</td>\n",
       "      <td>3.670330</td>\n",
       "    </tr>\n",
       "    <tr>\n",
       "      <th>Reims</th>\n",
       "      <td>831.0</td>\n",
       "      <td>735050.0</td>\n",
       "      <td>584364.750</td>\n",
       "      <td>4.565934</td>\n",
       "    </tr>\n",
       "  </tbody>\n",
       "</table>\n",
       "</div>"
      ],
      "text/plain": [
       "                  nb_camions  distance_all_trajets      CO2(kg)  \\\n",
       "warehouse                                                         \n",
       "Avignon               1071.0              589743.0   468845.685   \n",
       "Cergy                 2966.0             1705578.0  1355934.510   \n",
       "Clermont-Ferrand       289.0              168732.0   134141.940   \n",
       "Montauban              668.0              534141.0   424642.095   \n",
       "Reims                  831.0              735050.0   584364.750   \n",
       "\n",
       "                  nb_camions_daily  \n",
       "warehouse                           \n",
       "Avignon                   5.884615  \n",
       "Cergy                    16.296703  \n",
       "Clermont-Ferrand          1.587912  \n",
       "Montauban                 3.670330  \n",
       "Reims                     4.565934  "
      ]
     },
     "execution_count": 118,
     "metadata": {},
     "output_type": "execute_result"
    }
   ],
   "source": [
    "df_optimised_0.groupby('warehouse').sum()"
   ]
  },
  {
   "cell_type": "code",
   "execution_count": 122,
   "metadata": {},
   "outputs": [
    {
     "name": "stdout",
     "output_type": "stream",
     "text": [
      "CO2 émis : 2967928 kg\n"
     ]
    }
   ],
   "source": [
    "print('CO2 émis : ' +str(int(df_optimised_0.groupby('warehouse').sum()['CO2(kg)'].sum())) + ' kg')"
   ]
  },
  {
   "cell_type": "markdown",
   "metadata": {},
   "source": [
    "#### Scénario 1"
   ]
  },
  {
   "cell_type": "code",
   "execution_count": 11,
   "metadata": {},
   "outputs": [
    {
     "name": "stdout",
     "output_type": "stream",
     "text": [
      "No solution\n",
      "No solution\n",
      "No solution\n",
      "No solution\n"
     ]
    }
   ],
   "source": [
    "df_cities_1 = pd.read_csv(\"../data/cities.csv\")\n",
    "liste_warehouses_1 = ['Cergy','Reims','Avignon','Montauban']\n",
    "df_cities_1[\"from_warehouse\"] = df_cities_1.city.apply(lambda row : processing.find_closest_warehouse(row,liste_warehouses_1))\n",
    "df_orders_opt_1 = df_orders_opt.drop(columns=['from_warehouse'])\n",
    "df_orders_opt_1 = pd.merge(df_orders_opt_1,df_cities_1[['city','from_warehouse']],\n",
    "                           right_on='city',\n",
    "                           left_on='delivery_location',\n",
    "                           how='right'\n",
    "                           ).drop(columns=['city'])"
   ]
  },
  {
   "cell_type": "code",
   "execution_count": 127,
   "metadata": {},
   "outputs": [],
   "source": [
    "df_orders_opt_1['nb_camions_totat'] = df_orders_opt_1['Predicted roads'].apply(calculate_nb_camions)\n",
    "df_orders_opt_1['nb_camions_daily'] = df_orders_opt_1['nb_camions_totat']/182\n",
    "df_orders_opt_1['distance_trajet'] = df_orders_opt_1['Predicted roads'].apply(calculate_distance_trajet)\n",
    "df_orders_opt_1['nb_days_trajets'] = df_orders_opt_1.apply(calculate_nb_days_trajets,axis=1)\n",
    "df_orders_opt_1['distance_all_trajets'] = df_orders_opt_1['distance_trajet'].apply(sum_values)\n",
    "df_orders_opt_1['CO2(kg)'] = df_orders_opt_1['distance_all_trajets'].apply(lambda row : row * CO2_per_km)"
   ]
  },
  {
   "cell_type": "code",
   "execution_count": 128,
   "metadata": {},
   "outputs": [
    {
     "data": {
      "text/html": [
       "<div>\n",
       "<style scoped>\n",
       "    .dataframe tbody tr th:only-of-type {\n",
       "        vertical-align: middle;\n",
       "    }\n",
       "\n",
       "    .dataframe tbody tr th {\n",
       "        vertical-align: top;\n",
       "    }\n",
       "\n",
       "    .dataframe thead th {\n",
       "        text-align: right;\n",
       "    }\n",
       "</style>\n",
       "<table border=\"1\" class=\"dataframe\">\n",
       "  <thead>\n",
       "    <tr style=\"text-align: right;\">\n",
       "      <th></th>\n",
       "      <th>nb_camions_totat</th>\n",
       "      <th>nb_camions_daily</th>\n",
       "      <th>distance_all_trajets</th>\n",
       "      <th>CO2(kg)</th>\n",
       "    </tr>\n",
       "    <tr>\n",
       "      <th>warehouse</th>\n",
       "      <th></th>\n",
       "      <th></th>\n",
       "      <th></th>\n",
       "      <th></th>\n",
       "    </tr>\n",
       "  </thead>\n",
       "  <tbody>\n",
       "    <tr>\n",
       "      <th>Avignon</th>\n",
       "      <td>1071.0</td>\n",
       "      <td>5.884615</td>\n",
       "      <td>590516.0</td>\n",
       "      <td>469460.220</td>\n",
       "    </tr>\n",
       "    <tr>\n",
       "      <th>Cergy</th>\n",
       "      <td>2955.0</td>\n",
       "      <td>16.236264</td>\n",
       "      <td>1647095.0</td>\n",
       "      <td>1309440.525</td>\n",
       "    </tr>\n",
       "    <tr>\n",
       "      <th>Montauban</th>\n",
       "      <td>669.0</td>\n",
       "      <td>3.675824</td>\n",
       "      <td>533622.0</td>\n",
       "      <td>424229.490</td>\n",
       "    </tr>\n",
       "    <tr>\n",
       "      <th>Reims</th>\n",
       "      <td>831.0</td>\n",
       "      <td>4.565934</td>\n",
       "      <td>736031.0</td>\n",
       "      <td>585144.645</td>\n",
       "    </tr>\n",
       "  </tbody>\n",
       "</table>\n",
       "</div>"
      ],
      "text/plain": [
       "           nb_camions_totat  nb_camions_daily  distance_all_trajets  \\\n",
       "warehouse                                                             \n",
       "Avignon              1071.0          5.884615              590516.0   \n",
       "Cergy                2955.0         16.236264             1647095.0   \n",
       "Montauban             669.0          3.675824              533622.0   \n",
       "Reims                 831.0          4.565934              736031.0   \n",
       "\n",
       "               CO2(kg)  \n",
       "warehouse               \n",
       "Avignon     469460.220  \n",
       "Cergy      1309440.525  \n",
       "Montauban   424229.490  \n",
       "Reims       585144.645  "
      ]
     },
     "execution_count": 128,
     "metadata": {},
     "output_type": "execute_result"
    }
   ],
   "source": [
    "df_orders_opt_1.groupby('warehouse').sum()"
   ]
  },
  {
   "cell_type": "code",
   "execution_count": 129,
   "metadata": {},
   "outputs": [
    {
     "name": "stdout",
     "output_type": "stream",
     "text": [
      "CO2 émis : 2788274 kg\n"
     ]
    }
   ],
   "source": [
    "print('CO2 émis : ' +str(int(df_orders_opt_1.groupby('warehouse').sum()['CO2(kg)'].sum())) + ' kg')"
   ]
  },
  {
   "cell_type": "markdown",
   "metadata": {},
   "source": [
    "#### Scénario 2"
   ]
  },
  {
   "cell_type": "code",
   "execution_count": 106,
   "metadata": {},
   "outputs": [],
   "source": [
    "df_cities_2 = pd.read_csv(\"../data/cities.csv\")\n",
    "liste_warehouses_2 = ['Cergy','Reims','Avignon','Montauban','Rennes']\n",
    "df_cities_2[\"from_warehouse\"] = df_cities_2.city.apply(lambda row : processing.find_closest_warehouse(row,liste_warehouses_2))\n",
    "df_orders_opt_2 = df_orders_opt.drop(columns=['from_warehouse'])\n",
    "df_orders_opt_2 = pd.merge(df_orders_opt_2,df_cities_2[['city','from_warehouse']],right_on='city',left_on='delivery_location',how='right').drop(columns=['city'])"
   ]
  },
  {
   "cell_type": "code",
   "execution_count": 12,
   "metadata": {},
   "outputs": [],
   "source": [
    "date_test = datetime.datetime(2021,3,1)\n",
    "delay_test = 1\n",
    "warehouse_name_test = 'Rennes'\n",
    "\n",
    "df_filtered,matrix_distance,demand,vehicle_capacities,num_vehicles,depot = processing.processing_opti_rendement(df_orders_opt_2,warehouse_name_test,date_test,delay_test)\n",
    "lists_of_cities = cvrp.CVRP(cvrp.create_data_model(df_filtered,matrix_distance,demand,vehicle_capacities,num_vehicles,depot),verbose=0)\n",
    "lists_of_cities = [ utils.remove_consecutive_duplicate(list_of_city) for list_of_city in lists_of_cities] "
   ]
  },
  {
   "cell_type": "code",
   "execution_count": 9,
   "metadata": {},
   "outputs": [],
   "source": [
    "df_optimised_2 = pd.DataFrame(list(itertools.product(liste_warehouses_2,[datetime.datetime(2021,1,1) + datetime.timedelta(days=2*i) for i in range(91)])),columns=['warehouse','date'])\n",
    "df_optimised_2[\"Predicted roads\"] = df_optimised_2.apply(lambda row : cvrp.apply_CVRP(df_orders_opt_2,row.warehouse,row.date,1), axis=1)\n",
    "df_optimised_2.to_csv(\"..\\data\\\\results\\df_optimised_2.csv\")"
   ]
  },
  {
   "cell_type": "code",
   "execution_count": 10,
   "metadata": {},
   "outputs": [],
   "source": [
    "df_optimised_2['nb_camions_totat'] = df_optimised_2['Predicted roads'].apply(calculate_nb_camions)\n",
    "df_optimised_2['nb_camions_daily'] = df_optimised_2['nb_camions_totat']/182\n",
    "df_optimised_2['distance_trajet'] = df_optimised_2['Predicted roads'].apply(calculate_distance_trajet)\n",
    "df_optimised_2['nb_days_trajets'] = df_optimised_2.apply(calculate_nb_days_trajets,axis=1)\n",
    "df_optimised_2['distance_all_trajets'] = df_optimised_2['distance_trajet'].apply(sum_values)\n",
    "df_optimised_2['CO2(kg)'] = df_optimised_2['distance_all_trajets'].apply(lambda row : row * CO2_per_km)"
   ]
  },
  {
   "cell_type": "code",
   "execution_count": 11,
   "metadata": {},
   "outputs": [
    {
     "data": {
      "text/html": [
       "<div>\n",
       "<style scoped>\n",
       "    .dataframe tbody tr th:only-of-type {\n",
       "        vertical-align: middle;\n",
       "    }\n",
       "\n",
       "    .dataframe tbody tr th {\n",
       "        vertical-align: top;\n",
       "    }\n",
       "\n",
       "    .dataframe thead th {\n",
       "        text-align: right;\n",
       "    }\n",
       "</style>\n",
       "<table border=\"1\" class=\"dataframe\">\n",
       "  <thead>\n",
       "    <tr style=\"text-align: right;\">\n",
       "      <th></th>\n",
       "      <th>nb_camions_totat</th>\n",
       "      <th>nb_camions_daily</th>\n",
       "      <th>distance_all_trajets</th>\n",
       "      <th>CO2(kg)</th>\n",
       "    </tr>\n",
       "    <tr>\n",
       "      <th>warehouse</th>\n",
       "      <th></th>\n",
       "      <th></th>\n",
       "      <th></th>\n",
       "      <th></th>\n",
       "    </tr>\n",
       "  </thead>\n",
       "  <tbody>\n",
       "    <tr>\n",
       "      <th>Avignon</th>\n",
       "      <td>1260</td>\n",
       "      <td>6.923077</td>\n",
       "      <td>8.670176e+05</td>\n",
       "      <td>689278.977404</td>\n",
       "    </tr>\n",
       "    <tr>\n",
       "      <th>Cergy</th>\n",
       "      <td>2546</td>\n",
       "      <td>13.989011</td>\n",
       "      <td>8.258046e+05</td>\n",
       "      <td>656514.624564</td>\n",
       "    </tr>\n",
       "    <tr>\n",
       "      <th>Montauban</th>\n",
       "      <td>555</td>\n",
       "      <td>3.049451</td>\n",
       "      <td>4.138027e+05</td>\n",
       "      <td>328973.142631</td>\n",
       "    </tr>\n",
       "    <tr>\n",
       "      <th>Reims</th>\n",
       "      <td>864</td>\n",
       "      <td>4.747253</td>\n",
       "      <td>1.154141e+06</td>\n",
       "      <td>917542.263009</td>\n",
       "    </tr>\n",
       "    <tr>\n",
       "      <th>Rennes</th>\n",
       "      <td>809</td>\n",
       "      <td>4.445055</td>\n",
       "      <td>6.497294e+05</td>\n",
       "      <td>516534.838167</td>\n",
       "    </tr>\n",
       "  </tbody>\n",
       "</table>\n",
       "</div>"
      ],
      "text/plain": [
       "           nb_camions_totat  nb_camions_daily  distance_all_trajets  \\\n",
       "warehouse                                                             \n",
       "Avignon                1260          6.923077          8.670176e+05   \n",
       "Cergy                  2546         13.989011          8.258046e+05   \n",
       "Montauban               555          3.049451          4.138027e+05   \n",
       "Reims                   864          4.747253          1.154141e+06   \n",
       "Rennes                  809          4.445055          6.497294e+05   \n",
       "\n",
       "                 CO2(kg)  \n",
       "warehouse                 \n",
       "Avignon    689278.977404  \n",
       "Cergy      656514.624564  \n",
       "Montauban  328973.142631  \n",
       "Reims      917542.263009  \n",
       "Rennes     516534.838167  "
      ]
     },
     "execution_count": 11,
     "metadata": {},
     "output_type": "execute_result"
    }
   ],
   "source": [
    "df_optimised_2.groupby('warehouse').sum()"
   ]
  },
  {
   "cell_type": "code",
   "execution_count": 12,
   "metadata": {},
   "outputs": [
    {
     "name": "stdout",
     "output_type": "stream",
     "text": [
      "CO2 émis : 3108843 kg\n"
     ]
    }
   ],
   "source": [
    "print('CO2 émis : ' +str(int(df_optimised_2.groupby('warehouse').sum()['CO2(kg)'].sum())) + ' kg')"
   ]
  },
  {
   "cell_type": "markdown",
   "metadata": {},
   "source": [
    "#### Scénario 3"
   ]
  },
  {
   "cell_type": "code",
   "execution_count": 27,
   "metadata": {},
   "outputs": [],
   "source": [
    "df_cities_3 = pd.read_csv(\"../data/cities.csv\")\n",
    "liste_warehouses_3 = ['Cergy','Mulhouse','Avignon','Montauban','Rennes']\n",
    "df_cities_3[\"from_warehouse\"] = df_cities_3.city.apply(lambda row : processing.find_closest_warehouse(row,liste_warehouses_3))\n",
    "df_orders_opt_3 = df_orders_opt.drop(columns=['from_warehouse'])\n",
    "df_orders_opt_3 = pd.merge(df_orders_opt_3,df_cities_3[['city','from_warehouse']],right_on='city',left_on='delivery_location',how='right').drop(columns=['city'])"
   ]
  },
  {
   "cell_type": "code",
   "execution_count": 28,
   "metadata": {},
   "outputs": [],
   "source": [
    "df_optimised_3 = pd.DataFrame(list(itertools.product(liste_warehouses_3,[datetime.datetime(2021,1,1) + datetime.timedelta(days=2*i) for i in range(91)])),columns=['warehouse','date'])\n",
    "df_optimised_3[\"Predicted roads\"] = df_optimised_3.apply(lambda row : cvrp.apply_CVRP(df_orders_opt_3,row.warehouse,row.date,1), axis=1)\n",
    "df_optimised_3.to_csv(\"..\\data\\\\results\\df_optimised_2.csv\")"
   ]
  },
  {
   "cell_type": "code",
   "execution_count": 12,
   "metadata": {},
   "outputs": [
    {
     "name": "stdout",
     "output_type": "stream",
     "text": [
      "CO2 émis : 0 kg\n"
     ]
    }
   ],
   "source": [
    "print('CO2 émis : ' +str(int(df_optimised_3.groupby('warehouse').sum()['CO2(kg)'].sum())) + ' kg')"
   ]
  },
  {
   "cell_type": "markdown",
   "metadata": {},
   "source": [
    "### Délai de 2 jours"
   ]
  },
  {
   "cell_type": "code",
   "execution_count": null,
   "metadata": {},
   "outputs": [],
   "source": [
    "df_optimised_0_b = pd.DataFrame(list(itertools.product(liste_warehouses_0,[datetime.datetime(2021,1,1) + datetime.timedelta(days=3*i) for i in range(60)])),columns=['warehouse','date'])\n",
    "df_optimised_0_b[\"Predicted roads\"] = df_optimised_0_b.apply(lambda row :cvrp.apply_CVRP(df_orders_opt,row.warehouse,row.date,2), axis=1)\n",
    "df_optimised_0_b.to_csv(\"..\\data\\\\results\\df_optimised_0_b.csv\")"
   ]
  },
  {
   "cell_type": "code",
   "execution_count": null,
   "metadata": {},
   "outputs": [],
   "source": [
    "df_optimised_1_b = pd.DataFrame(list(itertools.product(liste_warehouses_1,[datetime.datetime(2021,1,1) + datetime.timedelta(days=3*i) for i in range(60)])),columns=['warehouse','date'])\n",
    "df_optimised_1_b[\"Predicted roads\"] = df_optimised_1_b.apply(lambda row :cvrp.apply_CVRP(df_orders_opt,row.warehouse,row.date,2), axis=1)\n",
    "df_optimised_1_b.to_csv(\"..\\data\\\\results\\df_optimised_1_b.csv\")"
   ]
  },
  {
   "cell_type": "code",
   "execution_count": 119,
   "metadata": {},
   "outputs": [
    {
     "name": "stdout",
     "output_type": "stream",
     "text": [
      "No solution\n"
     ]
    }
   ],
   "source": [
    "liste_warehouses_2 = ['Cergy','Reims','Avignon','Montauban','Rennes']\n",
    "df_optimised_2_b = pd.DataFrame(list(itertools.product(liste_warehouses_2,[datetime.datetime(2021,1,1) + datetime.timedelta(days=3*i) for i in range(6)])),columns=['warehouse','date'])\n",
    "df_optimised_2_b[\"Predicted roads\"] = df_optimised_2_b.apply(lambda row :cvrp.apply_CVRP(df_orders_opt_2,row.warehouse,row.date,2), axis=1)\n",
    "df_optimised_2_b.to_csv(\"..\\data\\\\results\\df_optimised_2_b_.csv\")"
   ]
  },
  {
   "cell_type": "code",
   "execution_count": null,
   "metadata": {},
   "outputs": [
    {
     "name": "stdout",
     "output_type": "stream",
     "text": [
      "No solution\n",
      "No solution\n",
      "No solution\n",
      "No solution\n"
     ]
    }
   ],
   "source": [
    "df_optimised_3_b = pd.DataFrame(list(itertools.product(liste_warehouses_3,[datetime.datetime(2021,1,1) + datetime.timedelta(days=i) for i in range(60)])),columns=['warehouse','date'])\n",
    "df_optimised_3_b[\"Predicted roads\"] = df_optimised_3_b.apply(lambda row :cvrp.apply_CVRP(df_orders_opt,row.warehouse,row.date,1), axis=1)\n",
    "df_optimised_3_b.to_csv(\"..\\data\\\\results\\df_optimised_3_b.csv\")"
   ]
  },
  {
   "cell_type": "code",
   "execution_count": null,
   "metadata": {},
   "outputs": [],
   "source": [
    "df_optimised_2_b['nb_camions_totat'] = df_optimised_2_b['Predicted roads'].apply(calculate_nb_camions)\n",
    "df_optimised_2_b['nb_camions_daily'] = df_optimised_2_b['nb_camions_totat']/182\n",
    "df_optimised_2_b['distance_trajet'] = df_optimised_2_b['Predicted roads'].apply(calculate_distance_trajet)\n",
    "df_optimised_2_b['nb_days_trajets'] = df_optimised_2_b.apply(calculate_nb_days_trajets,axis=1)\n",
    "df_optimised_2_b['distance_all_trajets'] = df_optimised_2_b['distance_trajet'].apply(sum_values)\n",
    "df_optimised_2_b['CO2(kg)'] = df_optimised_2_b['distance_all_trajets'].apply(lambda row : row * CO2_per_km)"
   ]
  },
  {
   "cell_type": "code",
   "execution_count": 130,
   "metadata": {},
   "outputs": [
    {
     "data": {
      "text/html": [
       "<div>\n",
       "<style scoped>\n",
       "    .dataframe tbody tr th:only-of-type {\n",
       "        vertical-align: middle;\n",
       "    }\n",
       "\n",
       "    .dataframe tbody tr th {\n",
       "        vertical-align: top;\n",
       "    }\n",
       "\n",
       "    .dataframe thead th {\n",
       "        text-align: right;\n",
       "    }\n",
       "</style>\n",
       "<table border=\"1\" class=\"dataframe\">\n",
       "  <thead>\n",
       "    <tr style=\"text-align: right;\">\n",
       "      <th></th>\n",
       "      <th>nb_camions_totat</th>\n",
       "      <th>nb_camions_daily</th>\n",
       "      <th>distance_all_trajets</th>\n",
       "      <th>CO2(kg)</th>\n",
       "    </tr>\n",
       "    <tr>\n",
       "      <th>warehouse</th>\n",
       "      <th></th>\n",
       "      <th></th>\n",
       "      <th></th>\n",
       "      <th></th>\n",
       "    </tr>\n",
       "  </thead>\n",
       "  <tbody>\n",
       "    <tr>\n",
       "      <th>Avignon</th>\n",
       "      <td>392.0</td>\n",
       "      <td>2.153846</td>\n",
       "      <td>254933.334508</td>\n",
       "      <td>202672.000934</td>\n",
       "    </tr>\n",
       "    <tr>\n",
       "      <th>Cergy</th>\n",
       "      <td>709.0</td>\n",
       "      <td>3.895604</td>\n",
       "      <td>230522.753766</td>\n",
       "      <td>183265.589244</td>\n",
       "    </tr>\n",
       "    <tr>\n",
       "      <th>Montauban</th>\n",
       "      <td>167.0</td>\n",
       "      <td>0.917582</td>\n",
       "      <td>122999.620183</td>\n",
       "      <td>97784.698045</td>\n",
       "    </tr>\n",
       "    <tr>\n",
       "      <th>Reims</th>\n",
       "      <td>244.0</td>\n",
       "      <td>1.340659</td>\n",
       "      <td>336235.982066</td>\n",
       "      <td>267307.605743</td>\n",
       "    </tr>\n",
       "    <tr>\n",
       "      <th>Rennes</th>\n",
       "      <td>242.0</td>\n",
       "      <td>1.329670</td>\n",
       "      <td>189989.017654</td>\n",
       "      <td>151041.269035</td>\n",
       "    </tr>\n",
       "  </tbody>\n",
       "</table>\n",
       "</div>"
      ],
      "text/plain": [
       "           nb_camions_totat  nb_camions_daily  distance_all_trajets  \\\n",
       "warehouse                                                             \n",
       "Avignon               392.0          2.153846         254933.334508   \n",
       "Cergy                 709.0          3.895604         230522.753766   \n",
       "Montauban             167.0          0.917582         122999.620183   \n",
       "Reims                 244.0          1.340659         336235.982066   \n",
       "Rennes                242.0          1.329670         189989.017654   \n",
       "\n",
       "                 CO2(kg)  \n",
       "warehouse                 \n",
       "Avignon    202672.000934  \n",
       "Cergy      183265.589244  \n",
       "Montauban   97784.698045  \n",
       "Reims      267307.605743  \n",
       "Rennes     151041.269035  "
      ]
     },
     "execution_count": 130,
     "metadata": {},
     "output_type": "execute_result"
    }
   ],
   "source": [
    "df_optimised_2_b.groupby('warehouse').sum()"
   ]
  },
  {
   "cell_type": "code",
   "execution_count": 143,
   "metadata": {},
   "outputs": [
    {
     "data": {
      "text/plain": [
       "2706213.489003308"
      ]
     },
     "execution_count": 143,
     "metadata": {},
     "output_type": "execute_result"
    }
   ],
   "source": [
    "df_optimised_2_b['CO2(kg)'].sum()"
   ]
  }
 ],
 "metadata": {
  "interpreter": {
   "hash": "e323c6bd98a2a1e64a003e9569b2839b74c8d8446c9434a7c49e19db2224615f"
  },
  "kernelspec": {
   "display_name": "Python 3.7.5 64-bit ('venv': venv)",
   "language": "python",
   "name": "python3"
  },
  "language_info": {
   "codemirror_mode": {
    "name": "ipython",
    "version": 3
   },
   "file_extension": ".py",
   "mimetype": "text/x-python",
   "name": "python",
   "nbconvert_exporter": "python",
   "pygments_lexer": "ipython3",
   "version": "3.7.5"
  },
  "orig_nbformat": 4
 },
 "nbformat": 4,
 "nbformat_minor": 2
}
