{
 "cells": [
  {
   "cell_type": "code",
   "execution_count": 1,
   "metadata": {},
   "outputs": [],
   "source": [
    "import pandas as pd"
   ]
  },
  {
   "cell_type": "code",
   "execution_count": 7,
   "metadata": {},
   "outputs": [],
   "source": [
    "df_cities = pd.read_csv(\"..\\data\\cities.csv\")\n",
    "df_factors = pd.read_csv(\"..\\data\\\\factors.csv\")\n",
    "df_orders = pd.read_csv(\"..\\data\\orders.csv\")\n",
    "df_packages = pd.read_csv(\"..\\data\\packages.csv\")\n",
    "df_pricing = pd.read_csv(\"..\\data\\pricing.csv\")\n",
    "df_routes = pd.read_csv(\"..\\data\\\\routes.csv\")\n",
    "df_trucks = pd.read_csv(\"..\\data\\\\trucks.csv\")\n",
    "df_warehouses = pd.read_csv(\"..\\data\\warehouses.csv\")"
   ]
  }
 ],
 "metadata": {
  "interpreter": {
   "hash": "5e6cd4decf1deff21a107022298968ce88793cd9e4561cde51a717f384a58bdd"
  },
  "kernelspec": {
   "display_name": "Python 3.7.5 64-bit ('venv': venv)",
   "language": "python",
   "name": "python3"
  },
  "language_info": {
   "codemirror_mode": {
    "name": "ipython",
    "version": 3
   },
   "file_extension": ".py",
   "mimetype": "text/x-python",
   "name": "python",
   "nbconvert_exporter": "python",
   "pygments_lexer": "ipython3",
   "version": "3.7.5"
  },
  "orig_nbformat": 4
 },
 "nbformat": 4,
 "nbformat_minor": 2
}
